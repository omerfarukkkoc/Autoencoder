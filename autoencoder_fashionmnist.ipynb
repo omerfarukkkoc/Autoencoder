{
  "nbformat": 4,
  "nbformat_minor": 0,
  "metadata": {
    "kernelspec": {
      "name": "python3",
      "display_name": "Python 3"
    },
    "language_info": {
      "codemirror_mode": {
        "name": "ipython",
        "version": 3
      },
      "file_extension": ".py",
      "mimetype": "text/x-python",
      "name": "python",
      "nbconvert_exporter": "python",
      "pygments_lexer": "ipython3",
      "version": "3.6.4"
    },
    "colab": {
      "name": "autoencoder_fruit360.ipynb",
      "version": "0.3.2",
      "provenance": []
    },
    "accelerator": "TPU"
  },
  "cells": [
    {
      "cell_type": "code",
      "metadata": {
        "id": "nSKfBxBzfShE",
        "colab_type": "code",
        "outputId": "b24db3d4-8b8d-4027-8e5d-0d7c4166c16c",
        "colab": {
          "base_uri": "https://localhost:8080/",
          "height": 34
        }
      },
      "source": [
        "from keras.models import Model\n",
        "from keras.layers import Input, Dense\n",
        "from keras.datasets import fashion_mnist\n",
        "import matplotlib.pyplot as plt\n",
        "import json, codecs\n",
        "import warnings\n",
        "warnings.filterwarnings(\"ignore\")"
      ],
      "execution_count": 0,
      "outputs": [
        {
          "output_type": "stream",
          "text": [
            "Using TensorFlow backend.\n"
          ],
          "name": "stderr"
        }
      ]
    },
    {
      "cell_type": "code",
      "metadata": {
        "id": "5N2cSP8mfShN",
        "colab_type": "code",
        "colab": {}
      },
      "source": [
        "from keras.datasets import cifar10"
      ],
      "execution_count": 0,
      "outputs": []
    },
    {
      "cell_type": "code",
      "metadata": {
        "scrolled": true,
        "id": "tl6IDVIffShS",
        "colab_type": "code",
        "outputId": "e02456c0-5aff-40d2-b4ca-e043f793f257",
        "colab": {
          "base_uri": "https://localhost:8080/",
          "height": 102
        }
      },
      "source": [
        "(x_train, _),(x_test, _) = cifar10.load_data()\n",
        "print(\"x_train shape\",x_train.shape)\n",
        "print(\"x_test shape\",x_test.shape)\n",
        "print(\"train sample:\",x_train.shape[0])"
      ],
      "execution_count": 0,
      "outputs": [
        {
          "output_type": "stream",
          "text": [
            "Downloading data from https://www.cs.toronto.edu/~kriz/cifar-10-python.tar.gz\n",
            "170500096/170498071 [==============================] - 2s 0us/step\n",
            "x_train shape (50000, 32, 32, 3)\n",
            "x_test shape (10000, 32, 32, 3)\n",
            "train sample: 50000\n"
          ],
          "name": "stdout"
        }
      ]
    },
    {
      "cell_type": "code",
      "metadata": {
        "id": "meOit4KwfSha",
        "colab_type": "code",
        "colab": {}
      },
      "source": [
        "x_train = x_train[:, :, :, 0]\n",
        "x_test = x_test[:, :, :, 0]"
      ],
      "execution_count": 0,
      "outputs": []
    },
    {
      "cell_type": "code",
      "metadata": {
        "id": "b7YTuhvTfShf",
        "colab_type": "code",
        "outputId": "4098851d-a011-4681-8f03-87eff9248aec",
        "colab": {
          "base_uri": "https://localhost:8080/",
          "height": 68
        }
      },
      "source": [
        "print(\"x_train shape\",x_train.shape)\n",
        "print(\"x_test shape\",x_test.shape)\n",
        "print(\"train sample:\",x_train.shape[0])"
      ],
      "execution_count": 0,
      "outputs": [
        {
          "output_type": "stream",
          "text": [
            "x_train shape (50000, 32, 32)\n",
            "x_test shape (10000, 32, 32)\n",
            "train sample: 50000\n"
          ],
          "name": "stdout"
        }
      ]
    },
    {
      "cell_type": "code",
      "metadata": {
        "scrolled": true,
        "id": "--J90MsJfShn",
        "colab_type": "code",
        "outputId": "f1aa38e2-1b1e-426d-a2f0-d980d046e817",
        "colab": {
          "base_uri": "https://localhost:8080/",
          "height": 266
        }
      },
      "source": [
        "plt.imshow(x_train[4000])\n",
        "plt.axis(\"off\")\n",
        "plt.show()"
      ],
      "execution_count": 0,
      "outputs": [
        {
          "output_type": "display_data",
          "data": {
            "image/png": "[encoded data removed]",
            "text/plain": [
              "<Figure size 432x288 with 1 Axes>"
            ]
          },
          "metadata": {
            "tags": []
          }
        }
      ]
    },
    {
      "cell_type": "code",
      "metadata": {
        "id": "gDaShE3PfShv",
        "colab_type": "code",
        "outputId": "39e5cafd-e661-4587-9704-b622df0d4512",
        "colab": {
          "base_uri": "https://localhost:8080/",
          "height": 187
        }
      },
      "source": [
        "(x_train, _), (x_test, _) = fashion_mnist.load_data()\n",
        "print(\"x_train shape\",x_train.shape)\n",
        "print(\"train sample:\",x_train.shape[0])"
      ],
      "execution_count": 0,
      "outputs": [
        {
          "output_type": "stream",
          "text": [
            "Downloading data from http://fashion-mnist.s3-website.eu-central-1.amazonaws.com/train-labels-idx1-ubyte.gz\n",
            "32768/29515 [=================================] - 0s 3us/step\n",
            "Downloading data from http://fashion-mnist.s3-website.eu-central-1.amazonaws.com/train-images-idx3-ubyte.gz\n",
            "26427392/26421880 [==============================] - 2s 0us/step\n",
            "Downloading data from http://fashion-mnist.s3-website.eu-central-1.amazonaws.com/t10k-labels-idx1-ubyte.gz\n",
            "8192/5148 [===============================================] - 0s 0us/step\n",
            "Downloading data from http://fashion-mnist.s3-website.eu-central-1.amazonaws.com/t10k-images-idx3-ubyte.gz\n",
            "4423680/4422102 [==============================] - 1s 0us/step\n",
            "x_train shape (60000, 28, 28)\n",
            "train sample: 60000\n"
          ],
          "name": "stdout"
        }
      ]
    },
    {
      "cell_type": "code",
      "metadata": {
        "id": "PiPtfXxqfSh5",
        "colab_type": "code",
        "colab": {}
      },
      "source": [
        "x_train = x_train.astype(\"float32\") / 255.0\n",
        "x_test = x_test.astype(\"float32\") / 255.0"
      ],
      "execution_count": 0,
      "outputs": []
    },
    {
      "cell_type": "code",
      "metadata": {
        "id": "Of7Wb8cyfSiB",
        "colab_type": "code",
        "colab": {}
      },
      "source": [
        "x_train = x_train.reshape((len(x_train), x_train.shape[1:][0]*x_train.shape[1:][1]))\n",
        "x_test = x_test.reshape((len(x_test), x_test.shape[1:][0]*x_test.shape[1:][1]))"
      ],
      "execution_count": 0,
      "outputs": []
    },
    {
      "cell_type": "code",
      "metadata": {
        "id": "h2HqJzgwfSiM",
        "colab_type": "code",
        "outputId": "cf11e3c3-c6e0-4b3f-9ce0-e35fd8df0288",
        "colab": {
          "base_uri": "https://localhost:8080/",
          "height": 265
        }
      },
      "source": [
        "plt.imshow(x_train[4000].reshape(28,28))\n",
        "plt.axis(\"off\")\n",
        "plt.show()"
      ],
      "execution_count": 0,
      "outputs": [
        {
          "output_type": "display_data",
          "data": {
            "image/png": "[encoded data removed]",
            "text/plain": [
              "<Figure size 432x288 with 1 Axes>"
            ]
          },
          "metadata": {
            "tags": []
          }
        }
      ]
    },
    {
      "cell_type": "code",
      "metadata": {
        "id": "qO6RE2jv00Tl",
        "colab_type": "code",
        "outputId": "59dfa2d1-28b7-40f3-a251-eafcdecd2390",
        "colab": {
          "base_uri": "https://localhost:8080/",
          "height": 156
        }
      },
      "source": [
        "input_img = Input(shape = (784,))\n",
        "\n",
        "encoded = Dense(392, activation=\"relu\")(input_img)\n",
        "\n",
        "encoded = Dense(196, activation=\"relu\")(encoded)\n",
        "\n",
        "encoded = Dense(98, activation=\"relu\")(encoded)\n",
        "\n",
        "encoded = Dense(49, activation=\"relu\")(encoded)\n",
        "\n",
        "encoded = Dense(24, activation=\"relu\")(encoded)\n",
        "\n",
        "decoded = Dense(12, activation=\"relu\")(encoded)\n",
        "\n",
        "decoded = Dense(24, activation=\"relu\")(encoded)\n",
        "\n",
        "decoded = Dense(49, activation=\"relu\")(encoded)\n",
        "\n",
        "decoded = Dense(98, activation=\"relu\")(encoded)\n",
        "\n",
        "decoded = Dense(196, activation=\"relu\")(encoded)\n",
        "\n",
        "decoded = Dense(392, activation=\"relu\")(encoded)\n",
        "\n",
        "decoded = Dense(784, activation=\"sigmoid\")(decoded)"
      ],
      "execution_count": 0,
      "outputs": [
        {
          "output_type": "stream",
          "text": [
            "WARNING: Logging before flag parsing goes to stderr.\n",
            "W0829 07:09:44.426853 140222257694592 deprecation_wrapper.py:119] From /usr/local/lib/python3.6/dist-packages/keras/backend/tensorflow_backend.py:74: The name tf.get_default_graph is deprecated. Please use tf.compat.v1.get_default_graph instead.\n",
            "\n",
            "W0829 07:09:44.473733 140222257694592 deprecation_wrapper.py:119] From /usr/local/lib/python3.6/dist-packages/keras/backend/tensorflow_backend.py:517: The name tf.placeholder is deprecated. Please use tf.compat.v1.placeholder instead.\n",
            "\n",
            "W0829 07:09:44.483717 140222257694592 deprecation_wrapper.py:119] From /usr/local/lib/python3.6/dist-packages/keras/backend/tensorflow_backend.py:4138: The name tf.random_uniform is deprecated. Please use tf.random.uniform instead.\n",
            "\n"
          ],
          "name": "stderr"
        }
      ]
    },
    {
      "cell_type": "code",
      "metadata": {
        "id": "iwUylTuHfSiT",
        "colab_type": "code",
        "outputId": "6ed173f7-08d8-48fe-8bca-c757001b7353",
        "colab": {
          "base_uri": "https://localhost:8080/",
          "height": 156
        }
      },
      "source": [
        "input_img = Input(shape = (1024,))\n",
        "\n",
        "encoded = Dense(512, activation=\"relu\")(input_img)\n",
        "\n",
        "encoded = Dense(256, activation=\"relu\")(encoded)\n",
        "\n",
        "encoded = Dense(128, activation=\"relu\")(encoded)\n",
        "\n",
        "encoded = Dense(64, activation=\"relu\")(encoded)\n",
        "\n",
        "encoded = Dense(32, activation=\"relu\")(encoded)\n",
        "\n",
        "decoded = Dense(16, activation=\"relu\")(encoded)\n",
        "\n",
        "decoded = Dense(32, activation=\"relu\")(encoded)\n",
        "\n",
        "decoded = Dense(64, activation=\"relu\")(encoded)\n",
        "\n",
        "decoded = Dense(128, activation=\"relu\")(encoded)\n",
        "\n",
        "decoded = Dense(256, activation=\"relu\")(encoded)\n",
        "\n",
        "decoded = Dense(512, activation=\"relu\")(encoded)\n",
        "\n",
        "decoded = Dense(1024, activation=\"sigmoid\")(decoded)"
      ],
      "execution_count": 0,
      "outputs": [
        {
          "output_type": "stream",
          "text": [
            "WARNING: Logging before flag parsing goes to stderr.\n",
            "W0828 16:41:01.786832 140299752003456 deprecation_wrapper.py:119] From /usr/local/lib/python3.6/dist-packages/keras/backend/tensorflow_backend.py:74: The name tf.get_default_graph is deprecated. Please use tf.compat.v1.get_default_graph instead.\n",
            "\n",
            "W0828 16:41:01.826538 140299752003456 deprecation_wrapper.py:119] From /usr/local/lib/python3.6/dist-packages/keras/backend/tensorflow_backend.py:517: The name tf.placeholder is deprecated. Please use tf.compat.v1.placeholder instead.\n",
            "\n",
            "W0828 16:41:01.834825 140299752003456 deprecation_wrapper.py:119] From /usr/local/lib/python3.6/dist-packages/keras/backend/tensorflow_backend.py:4138: The name tf.random_uniform is deprecated. Please use tf.random.uniform instead.\n",
            "\n"
          ],
          "name": "stderr"
        }
      ]
    },
    {
      "cell_type": "code",
      "metadata": {
        "id": "EcBkSuMWfSie",
        "colab_type": "code",
        "outputId": "8ce2df7c-91ec-49c9-b4a7-6056c7a0d87b",
        "colab": {
          "base_uri": "https://localhost:8080/",
          "height": 156
        }
      },
      "source": [
        "autoencoder = Model(input_img,decoded)\n",
        "\n",
        "autoencoder.compile(optimizer=\"adam\",loss=\"binary_crossentropy\")"
      ],
      "execution_count": 0,
      "outputs": [
        {
          "output_type": "stream",
          "text": [
            "W0829 07:09:49.449786 140222257694592 deprecation_wrapper.py:119] From /usr/local/lib/python3.6/dist-packages/keras/optimizers.py:790: The name tf.train.Optimizer is deprecated. Please use tf.compat.v1.train.Optimizer instead.\n",
            "\n",
            "W0829 07:09:49.482994 140222257694592 deprecation_wrapper.py:119] From /usr/local/lib/python3.6/dist-packages/keras/backend/tensorflow_backend.py:3376: The name tf.log is deprecated. Please use tf.math.log instead.\n",
            "\n",
            "W0829 07:09:49.489573 140222257694592 deprecation.py:323] From /usr/local/lib/python3.6/dist-packages/tensorflow/python/ops/nn_impl.py:180: add_dispatch_support.<locals>.wrapper (from tensorflow.python.ops.array_ops) is deprecated and will be removed in a future version.\n",
            "Instructions for updating:\n",
            "Use tf.where in 2.0, which has the same broadcast rule as np.where\n"
          ],
          "name": "stderr"
        }
      ]
    },
    {
      "cell_type": "code",
      "metadata": {
        "scrolled": true,
        "id": "y-RVnvMufSik",
        "colab_type": "code",
        "outputId": "1c7034d3-a3de-4430-a2c8-cacf7236eaa1",
        "colab": {
          "base_uri": "https://localhost:8080/",
          "height": 1000
        }
      },
      "source": [
        "hist = autoencoder.fit(x_train,\n",
        "                       x_train,\n",
        "                       epochs=200,\n",
        "                       batch_size=250,\n",
        "                       shuffle=True,\n",
        "                       validation_data = (x_train,x_train))"
      ],
      "execution_count": 11,
      "outputs": [
        {
          "output_type": "stream",
          "text": [
            "W0829 07:09:53.583278 140222257694592 deprecation_wrapper.py:119] From /usr/local/lib/python3.6/dist-packages/keras/backend/tensorflow_backend.py:986: The name tf.assign_add is deprecated. Please use tf.compat.v1.assign_add instead.\n",
            "\n"
          ],
          "name": "stderr"
        },
        {
          "output_type": "stream",
          "text": [
            "Train on 60000 samples, validate on 60000 samples\n",
            "Epoch 1/200\n",
            "60000/60000 [==============================] - 14s 238us/step - loss: 0.3583 - val_loss: 0.3120\n",
            "Epoch 2/200\n",
            "60000/60000 [==============================] - 13s 218us/step - loss: 0.3040 - val_loss: 0.2981\n",
            "Epoch 3/200\n",
            "60000/60000 [==============================] - 13s 218us/step - loss: 0.2954 - val_loss: 0.2921\n",
            "Epoch 4/200\n",
            "60000/60000 [==============================] - 13s 217us/step - loss: 0.2911 - val_loss: 0.2893\n",
            "Epoch 5/200\n",
            "60000/60000 [==============================] - 13s 218us/step - loss: 0.2884 - val_loss: 0.2863\n",
            "Epoch 6/200\n",
            "60000/60000 [==============================] - 13s 219us/step - loss: 0.2863 - val_loss: 0.2846\n",
            "Epoch 7/200\n",
            "60000/60000 [==============================] - 13s 218us/step - loss: 0.2843 - val_loss: 0.2830\n",
            "Epoch 8/200\n",
            "60000/60000 [==============================] - 13s 220us/step - loss: 0.2831 - val_loss: 0.2823\n",
            "Epoch 9/200\n",
            "60000/60000 [==============================] - 13s 219us/step - loss: 0.2818 - val_loss: 0.2808\n",
            "Epoch 10/200\n",
            "60000/60000 [==============================] - 13s 219us/step - loss: 0.2809 - val_loss: 0.2801\n",
            "Epoch 11/200\n",
            "60000/60000 [==============================] - 13s 219us/step - loss: 0.2800 - val_loss: 0.2794\n",
            "Epoch 12/200\n",
            "60000/60000 [==============================] - 13s 220us/step - loss: 0.2793 - val_loss: 0.2801\n",
            "Epoch 13/200\n",
            "60000/60000 [==============================] - 13s 219us/step - loss: 0.2786 - val_loss: 0.2778\n",
            "Epoch 14/200\n",
            "60000/60000 [==============================] - 13s 220us/step - loss: 0.2782 - val_loss: 0.2778\n",
            "Epoch 15/200\n",
            "60000/60000 [==============================] - 13s 219us/step - loss: 0.2776 - val_loss: 0.2773\n",
            "Epoch 16/200\n",
            "60000/60000 [==============================] - 13s 223us/step - loss: 0.2772 - val_loss: 0.2767\n",
            "Epoch 17/200\n",
            "60000/60000 [==============================] - 13s 222us/step - loss: 0.2768 - val_loss: 0.2764\n",
            "Epoch 18/200\n",
            "60000/60000 [==============================] - 13s 221us/step - loss: 0.2760 - val_loss: 0.2763\n",
            "Epoch 19/200\n",
            "60000/60000 [==============================] - 13s 221us/step - loss: 0.2759 - val_loss: 0.2788\n",
            "Epoch 20/200\n",
            "60000/60000 [==============================] - 13s 221us/step - loss: 0.2754 - val_loss: 0.2755\n",
            "Epoch 21/200\n",
            "60000/60000 [==============================] - 13s 221us/step - loss: 0.2755 - val_loss: 0.2744\n",
            "Epoch 22/200\n",
            "60000/60000 [==============================] - 13s 221us/step - loss: 0.2747 - val_loss: 0.2745\n",
            "Epoch 23/200\n",
            "60000/60000 [==============================] - 13s 220us/step - loss: 0.2747 - val_loss: 0.2740\n",
            "Epoch 24/200\n",
            "60000/60000 [==============================] - 13s 221us/step - loss: 0.2744 - val_loss: 0.2739\n",
            "Epoch 25/200\n",
            "60000/60000 [==============================] - 13s 221us/step - loss: 0.2742 - val_loss: 0.2734\n",
            "Epoch 26/200\n",
            "60000/60000 [==============================] - 13s 221us/step - loss: 0.2741 - val_loss: 0.2733\n",
            "Epoch 27/200\n",
            "60000/60000 [==============================] - 13s 221us/step - loss: 0.2737 - val_loss: 0.2730\n",
            "Epoch 28/200\n",
            "60000/60000 [==============================] - 13s 223us/step - loss: 0.2734 - val_loss: 0.2729\n",
            "Epoch 29/200\n",
            "60000/60000 [==============================] - 13s 222us/step - loss: 0.2735 - val_loss: 0.2741\n",
            "Epoch 30/200\n",
            "60000/60000 [==============================] - 13s 219us/step - loss: 0.2733 - val_loss: 0.2731\n",
            "Epoch 31/200\n",
            "60000/60000 [==============================] - 13s 217us/step - loss: 0.2729 - val_loss: 0.2722\n",
            "Epoch 32/200\n",
            "60000/60000 [==============================] - 13s 218us/step - loss: 0.2727 - val_loss: 0.2733\n",
            "Epoch 33/200\n",
            "60000/60000 [==============================] - 13s 218us/step - loss: 0.2726 - val_loss: 0.2720\n",
            "Epoch 34/200\n",
            "60000/60000 [==============================] - 13s 216us/step - loss: 0.2724 - val_loss: 0.2726\n",
            "Epoch 35/200\n",
            "60000/60000 [==============================] - 13s 217us/step - loss: 0.2723 - val_loss: 0.2727\n",
            "Epoch 36/200\n",
            "60000/60000 [==============================] - 13s 218us/step - loss: 0.2722 - val_loss: 0.2716\n",
            "Epoch 37/200\n",
            "60000/60000 [==============================] - 13s 217us/step - loss: 0.2725 - val_loss: 0.2715\n",
            "Epoch 38/200\n",
            "60000/60000 [==============================] - 13s 217us/step - loss: 0.2719 - val_loss: 0.2720\n",
            "Epoch 39/200\n",
            "60000/60000 [==============================] - 13s 216us/step - loss: 0.2718 - val_loss: 0.2716\n",
            "Epoch 40/200\n",
            "60000/60000 [==============================] - 13s 221us/step - loss: 0.2719 - val_loss: 0.2713\n",
            "Epoch 41/200\n",
            "60000/60000 [==============================] - 14s 237us/step - loss: 0.2716 - val_loss: 0.2715\n",
            "Epoch 42/200\n",
            "60000/60000 [==============================] - 13s 220us/step - loss: 0.2715 - val_loss: 0.2713\n",
            "Epoch 43/200\n",
            "60000/60000 [==============================] - 13s 220us/step - loss: 0.2715 - val_loss: 0.2711\n",
            "Epoch 44/200\n",
            "60000/60000 [==============================] - 13s 221us/step - loss: 0.2715 - val_loss: 0.2711\n",
            "Epoch 45/200\n",
            "60000/60000 [==============================] - 13s 221us/step - loss: 0.2713 - val_loss: 0.2714\n",
            "Epoch 46/200\n",
            "60000/60000 [==============================] - 13s 221us/step - loss: 0.2714 - val_loss: 0.2713\n",
            "Epoch 47/200\n",
            "60000/60000 [==============================] - 15s 242us/step - loss: 0.2719 - val_loss: 0.2773\n",
            "Epoch 48/200\n",
            "60000/60000 [==============================] - 14s 228us/step - loss: 0.2714 - val_loss: 0.2704\n",
            "Epoch 49/200\n",
            "60000/60000 [==============================] - 14s 228us/step - loss: 0.2708 - val_loss: 0.2705\n",
            "Epoch 50/200\n",
            "60000/60000 [==============================] - 14s 226us/step - loss: 0.2707 - val_loss: 0.2712\n",
            "Epoch 51/200\n",
            "60000/60000 [==============================] - 14s 227us/step - loss: 0.2710 - val_loss: 0.2706\n",
            "Epoch 52/200\n",
            "60000/60000 [==============================] - 14s 227us/step - loss: 0.2707 - val_loss: 0.2702\n",
            "Epoch 53/200\n",
            "60000/60000 [==============================] - 14s 226us/step - loss: 0.2710 - val_loss: 0.2702\n",
            "Epoch 54/200\n",
            "60000/60000 [==============================] - 14s 229us/step - loss: 0.2706 - val_loss: 0.2705\n",
            "Epoch 55/200\n",
            "60000/60000 [==============================] - 13s 225us/step - loss: 0.2704 - val_loss: 0.2703\n",
            "Epoch 56/200\n",
            "60000/60000 [==============================] - 14s 227us/step - loss: 0.2707 - val_loss: 0.2701\n",
            "Epoch 57/200\n",
            "60000/60000 [==============================] - 14s 227us/step - loss: 0.2706 - val_loss: 0.2705\n",
            "Epoch 58/200\n",
            "60000/60000 [==============================] - 14s 228us/step - loss: 0.2704 - val_loss: 0.2702\n",
            "Epoch 59/200\n",
            "60000/60000 [==============================] - 14s 227us/step - loss: 0.2705 - val_loss: 0.2702\n",
            "Epoch 60/200\n",
            "60000/60000 [==============================] - 14s 226us/step - loss: 0.2706 - val_loss: 0.2702\n",
            "Epoch 61/200\n",
            "60000/60000 [==============================] - 14s 225us/step - loss: 0.2702 - val_loss: 0.2702\n",
            "Epoch 62/200\n",
            "60000/60000 [==============================] - 14s 226us/step - loss: 0.2702 - val_loss: 0.2703\n",
            "Epoch 63/200\n",
            "60000/60000 [==============================] - 14s 233us/step - loss: 0.2701 - val_loss: 0.2701\n",
            "Epoch 64/200\n",
            "60000/60000 [==============================] - 13s 225us/step - loss: 0.2703 - val_loss: 0.2696\n",
            "Epoch 65/200\n",
            "60000/60000 [==============================] - 13s 224us/step - loss: 0.2702 - val_loss: 0.2698\n",
            "Epoch 66/200\n",
            "60000/60000 [==============================] - 13s 225us/step - loss: 0.2699 - val_loss: 0.2698\n",
            "Epoch 67/200\n",
            "60000/60000 [==============================] - 13s 224us/step - loss: 0.2700 - val_loss: 0.2697\n",
            "Epoch 68/200\n",
            "60000/60000 [==============================] - 14s 228us/step - loss: 0.2702 - val_loss: 0.2697\n",
            "Epoch 69/200\n",
            "60000/60000 [==============================] - 13s 224us/step - loss: 0.2699 - val_loss: 0.2696\n",
            "Epoch 70/200\n",
            "60000/60000 [==============================] - 13s 225us/step - loss: 0.2698 - val_loss: 0.2700\n",
            "Epoch 71/200\n",
            "60000/60000 [==============================] - 13s 225us/step - loss: 0.2699 - val_loss: 0.2695\n",
            "Epoch 72/200\n",
            "60000/60000 [==============================] - 13s 224us/step - loss: 0.2699 - val_loss: 0.2697\n",
            "Epoch 73/200\n",
            "60000/60000 [==============================] - 13s 224us/step - loss: 0.2699 - val_loss: 0.2694\n",
            "Epoch 74/200\n",
            "60000/60000 [==============================] - 14s 225us/step - loss: 0.2700 - val_loss: 0.2706\n",
            "Epoch 75/200\n",
            "60000/60000 [==============================] - 13s 225us/step - loss: 0.2697 - val_loss: 0.2694\n",
            "Epoch 76/200\n",
            "60000/60000 [==============================] - 13s 224us/step - loss: 0.2697 - val_loss: 0.2694\n",
            "Epoch 77/200\n",
            "60000/60000 [==============================] - 14s 227us/step - loss: 0.2699 - val_loss: 0.2692\n",
            "Epoch 78/200\n",
            "60000/60000 [==============================] - 14s 226us/step - loss: 0.2695 - val_loss: 0.2706\n",
            "Epoch 79/200\n",
            "60000/60000 [==============================] - 13s 225us/step - loss: 0.2697 - val_loss: 0.2707\n",
            "Epoch 80/200\n",
            "60000/60000 [==============================] - 13s 224us/step - loss: 0.2698 - val_loss: 0.2692\n",
            "Epoch 81/200\n",
            "60000/60000 [==============================] - 13s 224us/step - loss: 0.2700 - val_loss: 0.2694\n",
            "Epoch 82/200\n",
            "60000/60000 [==============================] - 13s 224us/step - loss: 0.2695 - val_loss: 0.2700\n",
            "Epoch 83/200\n",
            "60000/60000 [==============================] - 13s 224us/step - loss: 0.2696 - val_loss: 0.2700\n",
            "Epoch 84/200\n",
            "60000/60000 [==============================] - 14s 225us/step - loss: 0.2699 - val_loss: 0.2693\n",
            "Epoch 85/200\n",
            "60000/60000 [==============================] - 13s 223us/step - loss: 0.2697 - val_loss: 0.2689\n",
            "Epoch 86/200\n",
            "60000/60000 [==============================] - 14s 230us/step - loss: 0.2697 - val_loss: 0.2695\n",
            "Epoch 87/200\n",
            "60000/60000 [==============================] - 13s 224us/step - loss: 0.2697 - val_loss: 0.2690\n",
            "Epoch 88/200\n",
            "60000/60000 [==============================] - 13s 224us/step - loss: 0.2697 - val_loss: 0.2696\n",
            "Epoch 89/200\n",
            "60000/60000 [==============================] - 13s 225us/step - loss: 0.2696 - val_loss: 0.2702\n",
            "Epoch 90/200\n",
            "60000/60000 [==============================] - 13s 224us/step - loss: 0.2721 - val_loss: 0.2693\n",
            "Epoch 91/200\n",
            "60000/60000 [==============================] - 13s 223us/step - loss: 0.2693 - val_loss: 0.2689\n",
            "Epoch 92/200\n",
            "60000/60000 [==============================] - 13s 223us/step - loss: 0.2693 - val_loss: 0.2693\n",
            "Epoch 93/200\n",
            "60000/60000 [==============================] - 13s 224us/step - loss: 0.2694 - val_loss: 0.2692\n",
            "Epoch 94/200\n",
            "60000/60000 [==============================] - 13s 224us/step - loss: 0.2699 - val_loss: 0.2693\n",
            "Epoch 95/200\n",
            "60000/60000 [==============================] - 14s 226us/step - loss: 0.2696 - val_loss: 0.2690\n",
            "Epoch 96/200\n",
            "60000/60000 [==============================] - 13s 225us/step - loss: 0.2702 - val_loss: 0.2740\n",
            "Epoch 97/200\n",
            "60000/60000 [==============================] - 13s 224us/step - loss: 0.2697 - val_loss: 0.2690\n",
            "Epoch 98/200\n",
            "60000/60000 [==============================] - 14s 226us/step - loss: 0.2697 - val_loss: 0.2692\n",
            "Epoch 99/200\n",
            "60000/60000 [==============================] - 13s 223us/step - loss: 0.2703 - val_loss: 0.2705\n",
            "Epoch 100/200\n",
            "60000/60000 [==============================] - 13s 224us/step - loss: 0.2695 - val_loss: 0.2693\n",
            "Epoch 101/200\n",
            "60000/60000 [==============================] - 13s 222us/step - loss: 0.2700 - val_loss: 0.2699\n",
            "Epoch 102/200\n",
            "60000/60000 [==============================] - 13s 225us/step - loss: 0.2700 - val_loss: 0.2700\n",
            "Epoch 103/200\n",
            "60000/60000 [==============================] - 13s 224us/step - loss: 0.2704 - val_loss: 0.2701\n",
            "Epoch 104/200\n",
            "60000/60000 [==============================] - 13s 224us/step - loss: 0.2713 - val_loss: 0.2704\n",
            "Epoch 105/200\n",
            "60000/60000 [==============================] - 13s 224us/step - loss: 0.2698 - val_loss: 0.2699\n",
            "Epoch 106/200\n",
            "60000/60000 [==============================] - 13s 223us/step - loss: 0.2708 - val_loss: 0.2730\n",
            "Epoch 107/200\n",
            "60000/60000 [==============================] - 13s 223us/step - loss: 0.2712 - val_loss: 0.2706\n",
            "Epoch 108/200\n",
            "60000/60000 [==============================] - 13s 223us/step - loss: 0.2710 - val_loss: 0.2707\n",
            "Epoch 109/200\n",
            "60000/60000 [==============================] - 14s 226us/step - loss: 0.2724 - val_loss: 0.2782\n",
            "Epoch 110/200\n",
            "60000/60000 [==============================] - 13s 223us/step - loss: 0.2701 - val_loss: 0.2701\n",
            "Epoch 111/200\n",
            "60000/60000 [==============================] - 13s 222us/step - loss: 0.2702 - val_loss: 0.2725\n",
            "Epoch 112/200\n",
            "60000/60000 [==============================] - 13s 223us/step - loss: 0.2709 - val_loss: 0.2720\n",
            "Epoch 113/200\n",
            "60000/60000 [==============================] - 13s 225us/step - loss: 0.2715 - val_loss: 0.2703\n",
            "Epoch 114/200\n",
            "60000/60000 [==============================] - 13s 222us/step - loss: 0.2703 - val_loss: 0.2699\n",
            "Epoch 115/200\n",
            "60000/60000 [==============================] - 13s 222us/step - loss: 0.2711 - val_loss: 0.2739\n",
            "Epoch 116/200\n",
            "60000/60000 [==============================] - 13s 222us/step - loss: 0.2719 - val_loss: 0.2702\n",
            "Epoch 117/200\n",
            "60000/60000 [==============================] - 13s 222us/step - loss: 0.2741 - val_loss: 0.2787\n",
            "Epoch 118/200\n",
            "60000/60000 [==============================] - 13s 223us/step - loss: 0.2714 - val_loss: 0.2696\n",
            "Epoch 119/200\n",
            "60000/60000 [==============================] - 13s 223us/step - loss: 0.2711 - val_loss: 0.2713\n",
            "Epoch 120/200\n",
            "60000/60000 [==============================] - 13s 225us/step - loss: 0.2727 - val_loss: 0.2722\n",
            "Epoch 121/200\n",
            "60000/60000 [==============================] - 13s 222us/step - loss: 0.2722 - val_loss: 0.2715\n",
            "Epoch 122/200\n",
            "60000/60000 [==============================] - 14s 226us/step - loss: 0.2726 - val_loss: 0.2729\n",
            "Epoch 123/200\n",
            "60000/60000 [==============================] - 13s 224us/step - loss: 0.2724 - val_loss: 0.2709\n",
            "Epoch 124/200\n",
            "60000/60000 [==============================] - 13s 224us/step - loss: 0.2725 - val_loss: 0.2731\n",
            "Epoch 125/200\n",
            "60000/60000 [==============================] - 13s 222us/step - loss: 0.2724 - val_loss: 0.2702\n",
            "Epoch 126/200\n",
            "60000/60000 [==============================] - 13s 223us/step - loss: 0.2728 - val_loss: 0.2702\n",
            "Epoch 127/200\n",
            "60000/60000 [==============================] - 13s 223us/step - loss: 0.2727 - val_loss: 0.2724\n",
            "Epoch 128/200\n",
            "60000/60000 [==============================] - 13s 224us/step - loss: 0.2732 - val_loss: 0.2736\n",
            "Epoch 129/200\n",
            "60000/60000 [==============================] - 13s 225us/step - loss: 0.2742 - val_loss: 0.2714\n",
            "Epoch 130/200\n",
            "60000/60000 [==============================] - 13s 223us/step - loss: 0.2712 - val_loss: 0.2716\n",
            "Epoch 131/200\n",
            "60000/60000 [==============================] - 13s 223us/step - loss: 0.2734 - val_loss: 0.2725\n",
            "Epoch 132/200\n",
            "60000/60000 [==============================] - 14s 226us/step - loss: 0.2730 - val_loss: 0.2716\n",
            "Epoch 133/200\n",
            "60000/60000 [==============================] - 14s 225us/step - loss: 0.2734 - val_loss: 0.2721\n",
            "Epoch 134/200\n",
            "60000/60000 [==============================] - 13s 223us/step - loss: 0.2731 - val_loss: 0.2836\n",
            "Epoch 135/200\n",
            "60000/60000 [==============================] - 13s 223us/step - loss: 0.2736 - val_loss: 0.2726\n",
            "Epoch 136/200\n",
            "60000/60000 [==============================] - 13s 222us/step - loss: 0.2733 - val_loss: 0.2720\n",
            "Epoch 137/200\n",
            "60000/60000 [==============================] - 13s 223us/step - loss: 0.2754 - val_loss: 0.2715\n",
            "Epoch 138/200\n",
            "60000/60000 [==============================] - 13s 221us/step - loss: 0.2732 - val_loss: 0.2738\n",
            "Epoch 139/200\n",
            "60000/60000 [==============================] - 13s 224us/step - loss: 0.2737 - val_loss: 0.2712\n",
            "Epoch 140/200\n",
            "60000/60000 [==============================] - 14s 225us/step - loss: 0.2741 - val_loss: 0.2719\n",
            "Epoch 141/200\n",
            "60000/60000 [==============================] - 13s 223us/step - loss: 0.2735 - val_loss: 0.2829\n",
            "Epoch 142/200\n",
            "60000/60000 [==============================] - 13s 224us/step - loss: 0.2736 - val_loss: 0.2846\n",
            "Epoch 143/200\n",
            "60000/60000 [==============================] - 13s 222us/step - loss: 0.2736 - val_loss: 0.2704\n",
            "Epoch 144/200\n",
            "60000/60000 [==============================] - 13s 223us/step - loss: 0.2755 - val_loss: 0.2726\n",
            "Epoch 145/200\n",
            "60000/60000 [==============================] - 13s 224us/step - loss: 0.2733 - val_loss: 0.2796\n",
            "Epoch 146/200\n",
            "60000/60000 [==============================] - 13s 223us/step - loss: 0.2773 - val_loss: 0.2715\n",
            "Epoch 147/200\n",
            "60000/60000 [==============================] - 13s 223us/step - loss: 0.2736 - val_loss: 0.2710\n",
            "Epoch 148/200\n",
            "60000/60000 [==============================] - 13s 222us/step - loss: 0.2752 - val_loss: 0.2710\n",
            "Epoch 149/200\n",
            "60000/60000 [==============================] - 13s 223us/step - loss: 0.2740 - val_loss: 0.2715\n",
            "Epoch 150/200\n",
            "60000/60000 [==============================] - 13s 223us/step - loss: 0.2750 - val_loss: 0.2752\n",
            "Epoch 151/200\n",
            "60000/60000 [==============================] - 13s 223us/step - loss: 0.2753 - val_loss: 0.2737\n",
            "Epoch 152/200\n",
            "60000/60000 [==============================] - 13s 222us/step - loss: 0.2742 - val_loss: 0.2760\n",
            "Epoch 153/200\n",
            "60000/60000 [==============================] - 13s 223us/step - loss: 0.2750 - val_loss: 0.2765\n",
            "Epoch 154/200\n",
            "60000/60000 [==============================] - 13s 222us/step - loss: 0.2752 - val_loss: 0.2742\n",
            "Epoch 155/200\n",
            "60000/60000 [==============================] - 13s 224us/step - loss: 0.2739 - val_loss: 0.2740\n",
            "Epoch 156/200\n",
            "60000/60000 [==============================] - 14s 225us/step - loss: 0.2744 - val_loss: 0.2736\n",
            "Epoch 157/200\n",
            "60000/60000 [==============================] - 13s 222us/step - loss: 0.2745 - val_loss: 0.2753\n",
            "Epoch 158/200\n",
            "60000/60000 [==============================] - 13s 223us/step - loss: 0.2775 - val_loss: 0.2733\n",
            "Epoch 159/200\n",
            "60000/60000 [==============================] - 13s 223us/step - loss: 0.2734 - val_loss: 0.2732\n",
            "Epoch 160/200\n",
            "60000/60000 [==============================] - 13s 224us/step - loss: 0.2751 - val_loss: 0.2718\n",
            "Epoch 161/200\n",
            "60000/60000 [==============================] - 13s 224us/step - loss: 0.2750 - val_loss: 0.2739\n",
            "Epoch 162/200\n",
            "60000/60000 [==============================] - 13s 223us/step - loss: 0.2774 - val_loss: 0.2726\n",
            "Epoch 163/200\n",
            "60000/60000 [==============================] - 13s 223us/step - loss: 0.2736 - val_loss: 0.2756\n",
            "Epoch 164/200\n",
            "60000/60000 [==============================] - 13s 223us/step - loss: 0.2744 - val_loss: 0.2733\n",
            "Epoch 165/200\n",
            "60000/60000 [==============================] - 13s 223us/step - loss: 0.2746 - val_loss: 0.2743\n",
            "Epoch 166/200\n",
            "60000/60000 [==============================] - 13s 222us/step - loss: 0.2762 - val_loss: 0.2729\n",
            "Epoch 167/200\n",
            "60000/60000 [==============================] - 13s 223us/step - loss: 0.2750 - val_loss: 0.2765\n",
            "Epoch 168/200\n",
            "60000/60000 [==============================] - 13s 225us/step - loss: 0.2749 - val_loss: 0.2747\n",
            "Epoch 169/200\n",
            "60000/60000 [==============================] - 13s 223us/step - loss: 0.2751 - val_loss: 0.2744\n",
            "Epoch 170/200\n",
            "60000/60000 [==============================] - 13s 224us/step - loss: 0.2758 - val_loss: 0.2753\n",
            "Epoch 171/200\n",
            "60000/60000 [==============================] - 13s 224us/step - loss: 0.2747 - val_loss: 0.2756\n",
            "Epoch 172/200\n",
            "60000/60000 [==============================] - 13s 224us/step - loss: 0.2749 - val_loss: 0.2788\n",
            "Epoch 173/200\n",
            "60000/60000 [==============================] - 13s 223us/step - loss: 0.2750 - val_loss: 0.2749\n",
            "Epoch 174/200\n",
            "60000/60000 [==============================] - 13s 223us/step - loss: 0.2750 - val_loss: 0.2739\n",
            "Epoch 175/200\n",
            "60000/60000 [==============================] - 13s 224us/step - loss: 0.2749 - val_loss: 0.2740\n",
            "Epoch 176/200\n",
            "60000/60000 [==============================] - 13s 223us/step - loss: 0.2753 - val_loss: 0.2914\n",
            "Epoch 177/200\n",
            "60000/60000 [==============================] - 13s 223us/step - loss: 0.2781 - val_loss: 0.2735\n",
            "Epoch 178/200\n",
            "60000/60000 [==============================] - 13s 224us/step - loss: 0.2759 - val_loss: 0.2764\n",
            "Epoch 179/200\n",
            "60000/60000 [==============================] - 14s 227us/step - loss: 0.2749 - val_loss: 0.2736\n",
            "Epoch 180/200\n",
            "60000/60000 [==============================] - 13s 223us/step - loss: 0.2758 - val_loss: 0.2735\n",
            "Epoch 181/200\n",
            "60000/60000 [==============================] - 13s 224us/step - loss: 0.2769 - val_loss: 0.2733\n",
            "Epoch 182/200\n",
            "60000/60000 [==============================] - 13s 224us/step - loss: 0.2742 - val_loss: 0.2748\n",
            "Epoch 183/200\n",
            "60000/60000 [==============================] - 13s 224us/step - loss: 0.2756 - val_loss: 0.2749\n",
            "Epoch 184/200\n",
            "60000/60000 [==============================] - 13s 222us/step - loss: 0.2764 - val_loss: 0.2755\n",
            "Epoch 185/200\n",
            "60000/60000 [==============================] - 13s 223us/step - loss: 0.2761 - val_loss: 0.2747\n",
            "Epoch 186/200\n",
            "60000/60000 [==============================] - 13s 222us/step - loss: 0.2747 - val_loss: 0.2746\n",
            "Epoch 187/200\n",
            "60000/60000 [==============================] - 13s 222us/step - loss: 0.2748 - val_loss: 0.2746\n",
            "Epoch 188/200\n",
            "60000/60000 [==============================] - 13s 222us/step - loss: 0.2756 - val_loss: 0.2743\n",
            "Epoch 189/200\n",
            "60000/60000 [==============================] - 13s 222us/step - loss: 0.2754 - val_loss: 0.2737\n",
            "Epoch 190/200\n",
            "60000/60000 [==============================] - 13s 222us/step - loss: 0.2753 - val_loss: 0.2781\n",
            "Epoch 191/200\n",
            "60000/60000 [==============================] - 13s 224us/step - loss: 0.2764 - val_loss: 0.2741\n",
            "Epoch 192/200\n",
            "60000/60000 [==============================] - 13s 222us/step - loss: 0.2749 - val_loss: 0.2736\n",
            "Epoch 193/200\n",
            "60000/60000 [==============================] - 13s 222us/step - loss: 0.2769 - val_loss: 0.2735\n",
            "Epoch 194/200\n",
            "60000/60000 [==============================] - 13s 223us/step - loss: 0.2749 - val_loss: 0.2770\n",
            "Epoch 195/200\n",
            "60000/60000 [==============================] - 13s 223us/step - loss: 0.2765 - val_loss: 0.2754\n",
            "Epoch 196/200\n",
            "60000/60000 [==============================] - 13s 223us/step - loss: 0.2752 - val_loss: 0.2740\n",
            "Epoch 197/200\n",
            "60000/60000 [==============================] - 13s 222us/step - loss: 0.2751 - val_loss: 0.2763\n",
            "Epoch 198/200\n",
            "60000/60000 [==============================] - 13s 224us/step - loss: 0.2761 - val_loss: 0.2792\n",
            "Epoch 199/200\n",
            "60000/60000 [==============================] - 13s 223us/step - loss: 0.2754 - val_loss: 0.2742\n",
            "Epoch 200/200\n",
            "60000/60000 [==============================] - 13s 223us/step - loss: 0.2753 - val_loss: 0.2738\n"
          ],
          "name": "stdout"
        }
      ]
    },
    {
      "cell_type": "code",
      "metadata": {
        "id": "0mjY72nMfSiu",
        "colab_type": "code",
        "colab": {}
      },
      "source": [
        "autoencoder.save_weights(\"autoencoder_model.h5\")"
      ],
      "execution_count": 0,
      "outputs": []
    },
    {
      "cell_type": "code",
      "metadata": {
        "id": "wYWOUebJfSi0",
        "colab_type": "code",
        "colab": {
          "base_uri": "https://localhost:8080/",
          "height": 286
        },
        "outputId": "a568944d-399f-4804-ce76-698fd3488bc0"
      },
      "source": [
        "plt.plot(hist.history[\"loss\"],label = \"Train loss\")\n",
        "plt.plot(hist.history[\"val_loss\"],label = \"Val loss\")\n",
        "\n",
        "plt.legend()\n",
        "plt.show()\n",
        "plt.savefig('autoencoder_model_cifar10.png')"
      ],
      "execution_count": 12,
      "outputs": [
        {
          "output_type": "display_data",
          "data": {
            "image/png": "[encoded data removed]",
            "text/plain": [
              "<Figure size 432x288 with 1 Axes>"
            ]
          },
          "metadata": {
            "tags": []
          }
        },
        {
          "output_type": "display_data",
          "data": {
            "text/plain": [
              "<Figure size 432x288 with 0 Axes>"
            ]
          },
          "metadata": {
            "tags": []
          }
        }
      ]
    },
    {
      "cell_type": "code",
      "metadata": {
        "id": "IxRBoLqTfSi-",
        "colab_type": "code",
        "colab": {
          "base_uri": "https://localhost:8080/",
          "height": 496
        },
        "outputId": "9204ceaa-b4c9-4bd0-f78d-1bdbfda0a931"
      },
      "source": [
        "encoder = Model(input_img,encoded)\n",
        "encoded_img = encoder.predict(x_test)\n",
        "\n",
        "plt.imshow(x_test[1500].reshape(28,28))\n",
        "plt.axis(\"off\")\n",
        "plt.show()\n",
        "\n",
        "plt.figure()\n",
        "plt.imshow(encoded_img[1500].reshape(24,24))\n",
        "plt.axis(\"off\")\n",
        "plt.show()"
      ],
      "execution_count": 15,
      "outputs": [
        {
          "output_type": "display_data",
          "data": {
            "image/png": "[encoded data removed]",
            "text/plain": [
              "<Figure size 432x288 with 1 Axes>"
            ]
          },
          "metadata": {
            "tags": []
          }
        },
        {
          "output_type": "error",
          "ename": "ValueError",
          "evalue": "ignored",
          "traceback": [
            "\u001b[0;31m---------------------------------------------------------------------------\u001b[0m",
            "\u001b[0;31mValueError\u001b[0m                                Traceback (most recent call last)",
            "\u001b[0;32m<ipython-input-15-a5a8309e7c43>\u001b[0m in \u001b[0;36m<module>\u001b[0;34m()\u001b[0m\n\u001b[1;32m      7\u001b[0m \u001b[0;34m\u001b[0m\u001b[0m\n\u001b[1;32m      8\u001b[0m \u001b[0mplt\u001b[0m\u001b[0;34m.\u001b[0m\u001b[0mfigure\u001b[0m\u001b[0;34m(\u001b[0m\u001b[0;34m)\u001b[0m\u001b[0;34m\u001b[0m\u001b[0;34m\u001b[0m\u001b[0m\n\u001b[0;32m----> 9\u001b[0;31m \u001b[0mplt\u001b[0m\u001b[0;34m.\u001b[0m\u001b[0mimshow\u001b[0m\u001b[0;34m(\u001b[0m\u001b[0mencoded_img\u001b[0m\u001b[0;34m[\u001b[0m\u001b[0;36m1500\u001b[0m\u001b[0;34m]\u001b[0m\u001b[0;34m.\u001b[0m\u001b[0mreshape\u001b[0m\u001b[0;34m(\u001b[0m\u001b[0;36m24\u001b[0m\u001b[0;34m,\u001b[0m\u001b[0;36m24\u001b[0m\u001b[0;34m)\u001b[0m\u001b[0;34m)\u001b[0m\u001b[0;34m\u001b[0m\u001b[0;34m\u001b[0m\u001b[0m\n\u001b[0m\u001b[1;32m     10\u001b[0m \u001b[0mplt\u001b[0m\u001b[0;34m.\u001b[0m\u001b[0maxis\u001b[0m\u001b[0;34m(\u001b[0m\u001b[0;34m\"off\"\u001b[0m\u001b[0;34m)\u001b[0m\u001b[0;34m\u001b[0m\u001b[0;34m\u001b[0m\u001b[0m\n\u001b[1;32m     11\u001b[0m \u001b[0mplt\u001b[0m\u001b[0;34m.\u001b[0m\u001b[0mshow\u001b[0m\u001b[0;34m(\u001b[0m\u001b[0;34m)\u001b[0m\u001b[0;34m\u001b[0m\u001b[0;34m\u001b[0m\u001b[0m\n",
            "\u001b[0;31mValueError\u001b[0m: cannot reshape array of size 24 into shape (24,24)"
          ]
        },
        {
          "output_type": "display_data",
          "data": {
            "text/plain": [
              "<Figure size 432x288 with 0 Axes>"
            ]
          },
          "metadata": {
            "tags": []
          }
        }
      ]
    },
    {
      "cell_type": "code",
      "metadata": {
        "id": "Q005dC6-fSjG",
        "colab_type": "code",
        "colab": {}
      },
      "source": [
        "decoded_imgs = autoencoder.predict(x_test)"
      ],
      "execution_count": 0,
      "outputs": []
    },
    {
      "cell_type": "code",
      "metadata": {
        "id": "u7NWSGmAfSjK",
        "colab_type": "code",
        "colab": {
          "base_uri": "https://localhost:8080/",
          "height": 263
        },
        "outputId": "2da5bb69-25ee-4fbc-9f00-032c487d6f4a"
      },
      "source": [
        "n = 10\n",
        "plt.figure(figsize=(20, 4))\n",
        "for i in range(n):\n",
        "    # display original\n",
        "    ax = plt.subplot(2, n, i+1)\n",
        "    plt.imshow(x_test[i].reshape(28, 28))\n",
        "    plt.axis(\"off\")\n",
        "\n",
        "    # display reconstruction\n",
        "    ax = plt.subplot(2, n, i + n+1)\n",
        "    plt.imshow(decoded_imgs[i].reshape(28, 28))\n",
        "    plt.axis(\"off\")\n",
        "plt.show()\n"
      ],
      "execution_count": 18,
      "outputs": [
        {
          "output_type": "display_data",
          "data": {
            "image/png": "[encoded data removed]",
            "text/plain": [
              "<Figure size 1440x288 with 20 Axes>"
            ]
          },
          "metadata": {
            "tags": []
          }
        }
      ]
    },
    {
      "cell_type": "code",
      "metadata": {
        "id": "jwYnIjaWYnGR",
        "colab_type": "code",
        "colab": {}
      },
      "source": [
        ""
      ],
      "execution_count": 0,
      "outputs": []
    }
  ]
}